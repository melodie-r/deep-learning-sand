{
  "cells": [
    {
      "cell_type": "markdown",
      "metadata": {
        "colab_type": "text",
        "id": "lP6JLo1tGNBg"
      },
      "source": [
        "# Artificial Neural Network"
      ]
    },
    {
      "cell_type": "markdown",
      "metadata": {
        "colab_type": "text",
        "id": "gWZyYmS_UE_L"
      },
      "source": [
        "### Importing the libraries"
      ]
    },
    {
      "cell_type": "code",
      "execution_count": 1,
      "metadata": {
        "colab": {},
        "colab_type": "code",
        "id": "MxkJoQBkUIHC"
      },
      "outputs": [],
      "source": [
        "import numpy as np\n",
        "import pandas as pd\n",
        "import tensorflow as tf"
      ]
    },
    {
      "cell_type": "code",
      "execution_count": 2,
      "metadata": {
        "colab": {
          "base_uri": "https://localhost:8080/",
          "height": 34
        },
        "colab_type": "code",
        "id": "ZaTwK7ojXr2F",
        "outputId": "0b27a96d-d11a-43e8-ab4b-87c1f01896fe"
      },
      "outputs": [
        {
          "data": {
            "text/plain": [
              "'2.5.0'"
            ]
          },
          "execution_count": 2,
          "metadata": {},
          "output_type": "execute_result"
        }
      ],
      "source": [
        "tf.__version__"
      ]
    },
    {
      "cell_type": "markdown",
      "metadata": {
        "colab_type": "text",
        "id": "1E0Q3aoKUCRX"
      },
      "source": [
        "## Part 1 - Data Preprocessing"
      ]
    },
    {
      "cell_type": "markdown",
      "metadata": {
        "colab_type": "text",
        "id": "cKWAkFVGUU0Z"
      },
      "source": [
        "### Importing the dataset"
      ]
    },
    {
      "cell_type": "code",
      "execution_count": 3,
      "metadata": {
        "colab": {},
        "colab_type": "code",
        "id": "MXUkhkMfU4wq"
      },
      "outputs": [],
      "source": [
        "dataset = pd.read_csv('datasets/Churn_Modelling.csv')\r\n",
        "X = dataset.iloc[:, 3:-1]\r\n",
        "y = dataset.iloc[:, -1]"
      ]
    },
    {
      "cell_type": "code",
      "execution_count": 4,
      "metadata": {
        "colab": {
          "base_uri": "https://localhost:8080/",
          "height": 137
        },
        "colab_type": "code",
        "id": "VYP9cQTWbzuI",
        "outputId": "797e7a64-9bac-436a-8c9c-94437e5e7587"
      },
      "outputs": [
        {
          "data": {
            "text/html": [
              "<div>\n",
              "<style scoped>\n",
              "    .dataframe tbody tr th:only-of-type {\n",
              "        vertical-align: middle;\n",
              "    }\n",
              "\n",
              "    .dataframe tbody tr th {\n",
              "        vertical-align: top;\n",
              "    }\n",
              "\n",
              "    .dataframe thead th {\n",
              "        text-align: right;\n",
              "    }\n",
              "</style>\n",
              "<table border=\"1\" class=\"dataframe\">\n",
              "  <thead>\n",
              "    <tr style=\"text-align: right;\">\n",
              "      <th></th>\n",
              "      <th>CreditScore</th>\n",
              "      <th>Geography</th>\n",
              "      <th>Gender</th>\n",
              "      <th>Age</th>\n",
              "      <th>Tenure</th>\n",
              "      <th>Balance</th>\n",
              "      <th>NumOfProducts</th>\n",
              "      <th>HasCrCard</th>\n",
              "      <th>IsActiveMember</th>\n",
              "      <th>EstimatedSalary</th>\n",
              "    </tr>\n",
              "  </thead>\n",
              "  <tbody>\n",
              "    <tr>\n",
              "      <th>0</th>\n",
              "      <td>619</td>\n",
              "      <td>France</td>\n",
              "      <td>Female</td>\n",
              "      <td>42</td>\n",
              "      <td>2</td>\n",
              "      <td>0.00</td>\n",
              "      <td>1</td>\n",
              "      <td>1</td>\n",
              "      <td>1</td>\n",
              "      <td>101348.88</td>\n",
              "    </tr>\n",
              "    <tr>\n",
              "      <th>1</th>\n",
              "      <td>608</td>\n",
              "      <td>Spain</td>\n",
              "      <td>Female</td>\n",
              "      <td>41</td>\n",
              "      <td>1</td>\n",
              "      <td>83807.86</td>\n",
              "      <td>1</td>\n",
              "      <td>0</td>\n",
              "      <td>1</td>\n",
              "      <td>112542.58</td>\n",
              "    </tr>\n",
              "    <tr>\n",
              "      <th>2</th>\n",
              "      <td>502</td>\n",
              "      <td>France</td>\n",
              "      <td>Female</td>\n",
              "      <td>42</td>\n",
              "      <td>8</td>\n",
              "      <td>159660.80</td>\n",
              "      <td>3</td>\n",
              "      <td>1</td>\n",
              "      <td>0</td>\n",
              "      <td>113931.57</td>\n",
              "    </tr>\n",
              "    <tr>\n",
              "      <th>3</th>\n",
              "      <td>699</td>\n",
              "      <td>France</td>\n",
              "      <td>Female</td>\n",
              "      <td>39</td>\n",
              "      <td>1</td>\n",
              "      <td>0.00</td>\n",
              "      <td>2</td>\n",
              "      <td>0</td>\n",
              "      <td>0</td>\n",
              "      <td>93826.63</td>\n",
              "    </tr>\n",
              "    <tr>\n",
              "      <th>4</th>\n",
              "      <td>850</td>\n",
              "      <td>Spain</td>\n",
              "      <td>Female</td>\n",
              "      <td>43</td>\n",
              "      <td>2</td>\n",
              "      <td>125510.82</td>\n",
              "      <td>1</td>\n",
              "      <td>1</td>\n",
              "      <td>1</td>\n",
              "      <td>79084.10</td>\n",
              "    </tr>\n",
              "  </tbody>\n",
              "</table>\n",
              "</div>"
            ],
            "text/plain": [
              "   CreditScore Geography  Gender  Age  Tenure    Balance  NumOfProducts  \\\n",
              "0          619    France  Female   42       2       0.00              1   \n",
              "1          608     Spain  Female   41       1   83807.86              1   \n",
              "2          502    France  Female   42       8  159660.80              3   \n",
              "3          699    France  Female   39       1       0.00              2   \n",
              "4          850     Spain  Female   43       2  125510.82              1   \n",
              "\n",
              "   HasCrCard  IsActiveMember  EstimatedSalary  \n",
              "0          1               1        101348.88  \n",
              "1          0               1        112542.58  \n",
              "2          1               0        113931.57  \n",
              "3          0               0         93826.63  \n",
              "4          1               1         79084.10  "
            ]
          },
          "execution_count": 4,
          "metadata": {},
          "output_type": "execute_result"
        }
      ],
      "source": [
        "X.head()"
      ]
    },
    {
      "cell_type": "code",
      "execution_count": 5,
      "metadata": {
        "colab": {
          "base_uri": "https://localhost:8080/",
          "height": 34
        },
        "colab_type": "code",
        "id": "38vKGE6Nb2RR",
        "outputId": "a815e42a-e0dd-4cb5-ab97-b17ead98fbc3"
      },
      "outputs": [
        {
          "data": {
            "text/plain": [
              "0    1\n",
              "1    0\n",
              "2    1\n",
              "3    0\n",
              "4    0\n",
              "Name: Exited, dtype: int64"
            ]
          },
          "execution_count": 5,
          "metadata": {},
          "output_type": "execute_result"
        }
      ],
      "source": [
        "y.head()"
      ]
    },
    {
      "cell_type": "markdown",
      "metadata": {
        "colab_type": "text",
        "id": "N6bQ0UgSU-NJ"
      },
      "source": [
        "### Encoding categorical data"
      ]
    },
    {
      "cell_type": "markdown",
      "metadata": {
        "colab_type": "text",
        "id": "le5MJreAbW52"
      },
      "source": [
        "Label Encoding the \"Gender\" column"
      ]
    },
    {
      "cell_type": "code",
      "execution_count": 6,
      "metadata": {
        "colab": {},
        "colab_type": "code",
        "id": "PxVKWXxLbczC"
      },
      "outputs": [],
      "source": [
        "from sklearn.preprocessing import LabelEncoder\r\n",
        "le = LabelEncoder()\r\n",
        "X.loc[:, 'Gender'] = le.fit_transform(X.loc[:, 'Gender'])"
      ]
    },
    {
      "cell_type": "markdown",
      "metadata": {
        "colab_type": "text",
        "id": "CUxGZezpbMcb"
      },
      "source": [
        "One Hot Encoding the \"Geography\" column"
      ]
    },
    {
      "cell_type": "code",
      "execution_count": 7,
      "metadata": {
        "colab": {},
        "colab_type": "code",
        "id": "AMXC8-KMVirw"
      },
      "outputs": [],
      "source": [
        "# Get one hot encoding of column 'Geography'\r\n",
        "one_hot = pd.get_dummies(X['Geography'])\r\n",
        "# Drop column as it is now encoded\r\n",
        "X = X.drop('Geography',axis = 1)\r\n",
        "# Join the encoded df\r\n",
        "X = X.join(one_hot)"
      ]
    },
    {
      "cell_type": "code",
      "execution_count": 8,
      "metadata": {
        "colab": {
          "base_uri": "https://localhost:8080/",
          "height": 137
        },
        "colab_type": "code",
        "id": "ZcxwEon-b8nV",
        "outputId": "23a98af4-5e33-4b26-c27b-f06e3c5d2baf"
      },
      "outputs": [
        {
          "data": {
            "text/html": [
              "<div>\n",
              "<style scoped>\n",
              "    .dataframe tbody tr th:only-of-type {\n",
              "        vertical-align: middle;\n",
              "    }\n",
              "\n",
              "    .dataframe tbody tr th {\n",
              "        vertical-align: top;\n",
              "    }\n",
              "\n",
              "    .dataframe thead th {\n",
              "        text-align: right;\n",
              "    }\n",
              "</style>\n",
              "<table border=\"1\" class=\"dataframe\">\n",
              "  <thead>\n",
              "    <tr style=\"text-align: right;\">\n",
              "      <th></th>\n",
              "      <th>CreditScore</th>\n",
              "      <th>Gender</th>\n",
              "      <th>Age</th>\n",
              "      <th>Tenure</th>\n",
              "      <th>Balance</th>\n",
              "      <th>NumOfProducts</th>\n",
              "      <th>HasCrCard</th>\n",
              "      <th>IsActiveMember</th>\n",
              "      <th>EstimatedSalary</th>\n",
              "      <th>France</th>\n",
              "      <th>Germany</th>\n",
              "      <th>Spain</th>\n",
              "    </tr>\n",
              "  </thead>\n",
              "  <tbody>\n",
              "    <tr>\n",
              "      <th>0</th>\n",
              "      <td>619</td>\n",
              "      <td>0</td>\n",
              "      <td>42</td>\n",
              "      <td>2</td>\n",
              "      <td>0.00</td>\n",
              "      <td>1</td>\n",
              "      <td>1</td>\n",
              "      <td>1</td>\n",
              "      <td>101348.88</td>\n",
              "      <td>1</td>\n",
              "      <td>0</td>\n",
              "      <td>0</td>\n",
              "    </tr>\n",
              "    <tr>\n",
              "      <th>1</th>\n",
              "      <td>608</td>\n",
              "      <td>0</td>\n",
              "      <td>41</td>\n",
              "      <td>1</td>\n",
              "      <td>83807.86</td>\n",
              "      <td>1</td>\n",
              "      <td>0</td>\n",
              "      <td>1</td>\n",
              "      <td>112542.58</td>\n",
              "      <td>0</td>\n",
              "      <td>0</td>\n",
              "      <td>1</td>\n",
              "    </tr>\n",
              "    <tr>\n",
              "      <th>2</th>\n",
              "      <td>502</td>\n",
              "      <td>0</td>\n",
              "      <td>42</td>\n",
              "      <td>8</td>\n",
              "      <td>159660.80</td>\n",
              "      <td>3</td>\n",
              "      <td>1</td>\n",
              "      <td>0</td>\n",
              "      <td>113931.57</td>\n",
              "      <td>1</td>\n",
              "      <td>0</td>\n",
              "      <td>0</td>\n",
              "    </tr>\n",
              "    <tr>\n",
              "      <th>3</th>\n",
              "      <td>699</td>\n",
              "      <td>0</td>\n",
              "      <td>39</td>\n",
              "      <td>1</td>\n",
              "      <td>0.00</td>\n",
              "      <td>2</td>\n",
              "      <td>0</td>\n",
              "      <td>0</td>\n",
              "      <td>93826.63</td>\n",
              "      <td>1</td>\n",
              "      <td>0</td>\n",
              "      <td>0</td>\n",
              "    </tr>\n",
              "    <tr>\n",
              "      <th>4</th>\n",
              "      <td>850</td>\n",
              "      <td>0</td>\n",
              "      <td>43</td>\n",
              "      <td>2</td>\n",
              "      <td>125510.82</td>\n",
              "      <td>1</td>\n",
              "      <td>1</td>\n",
              "      <td>1</td>\n",
              "      <td>79084.10</td>\n",
              "      <td>0</td>\n",
              "      <td>0</td>\n",
              "      <td>1</td>\n",
              "    </tr>\n",
              "  </tbody>\n",
              "</table>\n",
              "</div>"
            ],
            "text/plain": [
              "   CreditScore  Gender  Age  Tenure    Balance  NumOfProducts  HasCrCard  \\\n",
              "0          619       0   42       2       0.00              1          1   \n",
              "1          608       0   41       1   83807.86              1          0   \n",
              "2          502       0   42       8  159660.80              3          1   \n",
              "3          699       0   39       1       0.00              2          0   \n",
              "4          850       0   43       2  125510.82              1          1   \n",
              "\n",
              "   IsActiveMember  EstimatedSalary  France  Germany  Spain  \n",
              "0               1        101348.88       1        0      0  \n",
              "1               1        112542.58       0        0      1  \n",
              "2               0        113931.57       1        0      0  \n",
              "3               0         93826.63       1        0      0  \n",
              "4               1         79084.10       0        0      1  "
            ]
          },
          "execution_count": 8,
          "metadata": {},
          "output_type": "execute_result"
        }
      ],
      "source": [
        "X.head()"
      ]
    },
    {
      "cell_type": "markdown",
      "metadata": {
        "colab_type": "text",
        "id": "vHol938cW8zd"
      },
      "source": [
        "### Splitting the dataset into the Training set and Test set"
      ]
    },
    {
      "cell_type": "code",
      "execution_count": 9,
      "metadata": {
        "colab": {},
        "colab_type": "code",
        "id": "Z-TDt0Y_XEfc"
      },
      "outputs": [],
      "source": [
        "from sklearn.model_selection import train_test_split\r\n",
        "X_train, X_test, y_train, y_test = train_test_split(X.values, y.values, test_size = 0.2, random_state = 0)"
      ]
    },
    {
      "cell_type": "markdown",
      "metadata": {
        "colab_type": "text",
        "id": "RE_FcHyfV3TQ"
      },
      "source": [
        "### Feature Scaling"
      ]
    },
    {
      "cell_type": "code",
      "execution_count": 10,
      "metadata": {
        "colab": {},
        "colab_type": "code",
        "id": "ViCrE00rV8Sk"
      },
      "outputs": [],
      "source": [
        "from sklearn.preprocessing import StandardScaler\n",
        "sc = StandardScaler()\n",
        "X_train = sc.fit_transform(X_train)\n",
        "X_test = sc.transform(X_test)"
      ]
    },
    {
      "cell_type": "markdown",
      "metadata": {
        "colab_type": "text",
        "id": "-zfEzkRVXIwF"
      },
      "source": [
        "## Part 2 - Building the ANN"
      ]
    },
    {
      "cell_type": "markdown",
      "metadata": {
        "colab_type": "text",
        "id": "KvdeScabXtlB"
      },
      "source": [
        "### Initializing the ANN"
      ]
    },
    {
      "cell_type": "code",
      "execution_count": 11,
      "metadata": {
        "colab": {},
        "colab_type": "code",
        "id": "3dtrScHxXQox"
      },
      "outputs": [],
      "source": [
        "ann = tf.keras.models.Sequential()"
      ]
    },
    {
      "cell_type": "markdown",
      "metadata": {
        "colab_type": "text",
        "id": "rP6urV6SX7kS"
      },
      "source": [
        "### Adding the input layer and the first hidden layer"
      ]
    },
    {
      "cell_type": "code",
      "execution_count": 13,
      "metadata": {
        "colab": {},
        "colab_type": "code",
        "id": "bppGycBXYCQr"
      },
      "outputs": [],
      "source": [
        "ann.add(tf.keras.layers.Dense(units=6, activation='relu'))"
      ]
    },
    {
      "cell_type": "markdown",
      "metadata": {
        "colab_type": "text",
        "id": "BELWAc_8YJze"
      },
      "source": [
        "### Adding the second hidden layer"
      ]
    },
    {
      "cell_type": "code",
      "execution_count": 12,
      "metadata": {
        "colab": {},
        "colab_type": "code",
        "id": "JneR0u0sYRTd"
      },
      "outputs": [],
      "source": [
        "ann.add(tf.keras.layers.Dense(units=6, activation='relu'))"
      ]
    },
    {
      "cell_type": "markdown",
      "metadata": {
        "colab_type": "text",
        "id": "OyNEe6RXYcU4"
      },
      "source": [
        "### Adding the output layer"
      ]
    },
    {
      "cell_type": "code",
      "execution_count": 13,
      "metadata": {
        "colab": {},
        "colab_type": "code",
        "id": "Cn3x41RBYfvY"
      },
      "outputs": [],
      "source": [
        "ann.add(tf.keras.layers.Dense(units=1, activation='sigmoid'))"
      ]
    },
    {
      "cell_type": "markdown",
      "metadata": {
        "colab_type": "text",
        "id": "JT4u2S1_Y4WG"
      },
      "source": [
        "## Part 3 - Training the ANN"
      ]
    },
    {
      "cell_type": "markdown",
      "metadata": {
        "colab_type": "text",
        "id": "8GWlJChhY_ZI"
      },
      "source": [
        "### Compiling the ANN"
      ]
    },
    {
      "cell_type": "code",
      "execution_count": 14,
      "metadata": {
        "colab": {},
        "colab_type": "code",
        "id": "fG3RrwDXZEaS"
      },
      "outputs": [],
      "source": [
        "ann.compile(optimizer = 'adam', loss = 'binary_crossentropy', metrics = ['accuracy'])"
      ]
    },
    {
      "cell_type": "markdown",
      "metadata": {
        "colab_type": "text",
        "id": "0QR_G5u7ZLSM"
      },
      "source": [
        "### Training the ANN on the Training set"
      ]
    },
    {
      "cell_type": "code",
      "execution_count": 16,
      "metadata": {
        "colab": {
          "base_uri": "https://localhost:8080/",
          "height": 1000
        },
        "colab_type": "code",
        "id": "nHZ-LKv_ZRb3",
        "outputId": "718cc4b0-b5aa-40f0-9b20-d3d31730a531"
      },
      "outputs": [
        {
          "name": "stdout",
          "output_type": "stream",
          "text": [
            "Epoch 1/100\n",
            "250/250 [==============================] - 0s 675us/step - loss: 0.3814 - accuracy: 0.8349\n",
            "Epoch 2/100\n",
            "250/250 [==============================] - 0s 617us/step - loss: 0.3815 - accuracy: 0.8369\n",
            "Epoch 3/100\n",
            "250/250 [==============================] - 0s 656us/step - loss: 0.3814 - accuracy: 0.8365\n",
            "Epoch 4/100\n",
            "250/250 [==============================] - 0s 647us/step - loss: 0.3811 - accuracy: 0.8366\n",
            "Epoch 5/100\n",
            "250/250 [==============================] - 0s 649us/step - loss: 0.3813 - accuracy: 0.8365\n",
            "Epoch 6/100\n",
            "250/250 [==============================] - 0s 636us/step - loss: 0.3808 - accuracy: 0.8363\n",
            "Epoch 7/100\n",
            "250/250 [==============================] - 0s 653us/step - loss: 0.3811 - accuracy: 0.8351\n",
            "Epoch 8/100\n",
            "250/250 [==============================] - 0s 660us/step - loss: 0.3808 - accuracy: 0.8370\n",
            "Epoch 9/100\n",
            "250/250 [==============================] - 0s 642us/step - loss: 0.3807 - accuracy: 0.8366\n",
            "Epoch 10/100\n",
            "250/250 [==============================] - 0s 658us/step - loss: 0.3807 - accuracy: 0.8379\n",
            "Epoch 11/100\n",
            "250/250 [==============================] - 0s 735us/step - loss: 0.3807 - accuracy: 0.8364\n",
            "Epoch 12/100\n",
            "250/250 [==============================] - 0s 707us/step - loss: 0.3807 - accuracy: 0.8350\n",
            "Epoch 13/100\n",
            "250/250 [==============================] - 0s 699us/step - loss: 0.3805 - accuracy: 0.8363\n",
            "Epoch 14/100\n",
            "250/250 [==============================] - 0s 820us/step - loss: 0.3804 - accuracy: 0.8365\n",
            "Epoch 15/100\n",
            "250/250 [==============================] - 0s 648us/step - loss: 0.3806 - accuracy: 0.8366\n",
            "Epoch 16/100\n",
            "250/250 [==============================] - 0s 637us/step - loss: 0.3807 - accuracy: 0.8363\n",
            "Epoch 17/100\n",
            "250/250 [==============================] - 0s 669us/step - loss: 0.3804 - accuracy: 0.8344\n",
            "Epoch 18/100\n",
            "250/250 [==============================] - 0s 640us/step - loss: 0.3802 - accuracy: 0.8372\n",
            "Epoch 19/100\n",
            "250/250 [==============================] - 0s 674us/step - loss: 0.3803 - accuracy: 0.8370\n",
            "Epoch 20/100\n",
            "250/250 [==============================] - 0s 669us/step - loss: 0.3800 - accuracy: 0.8360\n",
            "Epoch 21/100\n",
            "250/250 [==============================] - 0s 640us/step - loss: 0.3803 - accuracy: 0.8357\n",
            "Epoch 22/100\n",
            "250/250 [==============================] - 0s 656us/step - loss: 0.3802 - accuracy: 0.8366\n",
            "Epoch 23/100\n",
            "250/250 [==============================] - 0s 748us/step - loss: 0.3799 - accuracy: 0.8369\n",
            "Epoch 24/100\n",
            "250/250 [==============================] - 0s 790us/step - loss: 0.3799 - accuracy: 0.8361\n",
            "Epoch 25/100\n",
            "250/250 [==============================] - 0s 720us/step - loss: 0.3798 - accuracy: 0.8360\n",
            "Epoch 26/100\n",
            "250/250 [==============================] - 0s 840us/step - loss: 0.3801 - accuracy: 0.8376\n",
            "Epoch 27/100\n",
            "250/250 [==============================] - 0s 720us/step - loss: 0.3795 - accuracy: 0.8366\n",
            "Epoch 28/100\n",
            "250/250 [==============================] - 0s 671us/step - loss: 0.3798 - accuracy: 0.8359\n",
            "Epoch 29/100\n",
            "250/250 [==============================] - 0s 695us/step - loss: 0.3793 - accuracy: 0.8363\n",
            "Epoch 30/100\n",
            "250/250 [==============================] - 0s 751us/step - loss: 0.3795 - accuracy: 0.8357\n",
            "Epoch 31/100\n",
            "250/250 [==============================] - 0s 742us/step - loss: 0.3793 - accuracy: 0.8364\n",
            "Epoch 32/100\n",
            "250/250 [==============================] - 0s 875us/step - loss: 0.3795 - accuracy: 0.8371\n",
            "Epoch 33/100\n",
            "250/250 [==============================] - 0s 713us/step - loss: 0.3792 - accuracy: 0.8369\n",
            "Epoch 34/100\n",
            "250/250 [==============================] - 0s 675us/step - loss: 0.3793 - accuracy: 0.8367\n",
            "Epoch 35/100\n",
            "250/250 [==============================] - 0s 671us/step - loss: 0.3790 - accuracy: 0.8370\n",
            "Epoch 36/100\n",
            "250/250 [==============================] - 0s 739us/step - loss: 0.3789 - accuracy: 0.8370\n",
            "Epoch 37/100\n",
            "250/250 [==============================] - 0s 615us/step - loss: 0.3784 - accuracy: 0.8370\n",
            "Epoch 38/100\n",
            "250/250 [==============================] - 0s 576us/step - loss: 0.3789 - accuracy: 0.8376\n",
            "Epoch 39/100\n",
            "250/250 [==============================] - 0s 714us/step - loss: 0.3788 - accuracy: 0.8353\n",
            "Epoch 40/100\n",
            "250/250 [==============================] - 0s 656us/step - loss: 0.3787 - accuracy: 0.8363\n",
            "Epoch 41/100\n",
            "250/250 [==============================] - 0s 560us/step - loss: 0.3785 - accuracy: 0.8372\n",
            "Epoch 42/100\n",
            "250/250 [==============================] - 0s 655us/step - loss: 0.3782 - accuracy: 0.8375\n",
            "Epoch 43/100\n",
            "250/250 [==============================] - 0s 560us/step - loss: 0.3785 - accuracy: 0.8364\n",
            "Epoch 44/100\n",
            "250/250 [==============================] - 0s 729us/step - loss: 0.3784 - accuracy: 0.8367\n",
            "Epoch 45/100\n",
            "250/250 [==============================] - 0s 868us/step - loss: 0.3782 - accuracy: 0.8367\n",
            "Epoch 46/100\n",
            "250/250 [==============================] - 0s 650us/step - loss: 0.3781 - accuracy: 0.8356\n",
            "Epoch 47/100\n",
            "250/250 [==============================] - 0s 565us/step - loss: 0.3781 - accuracy: 0.8380\n",
            "Epoch 48/100\n",
            "250/250 [==============================] - 0s 661us/step - loss: 0.3776 - accuracy: 0.8367\n",
            "Epoch 49/100\n",
            "250/250 [==============================] - 0s 555us/step - loss: 0.3779 - accuracy: 0.8376\n",
            "Epoch 50/100\n",
            "250/250 [==============================] - 0s 591us/step - loss: 0.3779 - accuracy: 0.8370\n",
            "Epoch 51/100\n",
            "250/250 [==============================] - 0s 579us/step - loss: 0.3779 - accuracy: 0.8365\n",
            "Epoch 52/100\n",
            "250/250 [==============================] - 0s 581us/step - loss: 0.3779 - accuracy: 0.8357\n",
            "Epoch 53/100\n",
            "250/250 [==============================] - 0s 603us/step - loss: 0.3778 - accuracy: 0.8378\n",
            "Epoch 54/100\n",
            "250/250 [==============================] - 0s 577us/step - loss: 0.3777 - accuracy: 0.8384\n",
            "Epoch 55/100\n",
            "250/250 [==============================] - 0s 726us/step - loss: 0.3778 - accuracy: 0.8374\n",
            "Epoch 56/100\n",
            "250/250 [==============================] - 0s 772us/step - loss: 0.3776 - accuracy: 0.8360\n",
            "Epoch 57/100\n",
            "250/250 [==============================] - 0s 588us/step - loss: 0.3774 - accuracy: 0.8369\n",
            "Epoch 58/100\n",
            "250/250 [==============================] - 0s 595us/step - loss: 0.3773 - accuracy: 0.8366\n",
            "Epoch 59/100\n",
            "250/250 [==============================] - 0s 631us/step - loss: 0.3774 - accuracy: 0.8370\n",
            "Epoch 60/100\n",
            "250/250 [==============================] - 0s 612us/step - loss: 0.3772 - accuracy: 0.8363\n",
            "Epoch 61/100\n",
            "250/250 [==============================] - 0s 627us/step - loss: 0.3770 - accuracy: 0.8379\n",
            "Epoch 62/100\n",
            "250/250 [==============================] - 0s 583us/step - loss: 0.3768 - accuracy: 0.8363\n",
            "Epoch 63/100\n",
            "250/250 [==============================] - 0s 603us/step - loss: 0.3775 - accuracy: 0.8374\n",
            "Epoch 64/100\n",
            "250/250 [==============================] - 0s 718us/step - loss: 0.3772 - accuracy: 0.8382\n",
            "Epoch 65/100\n",
            "250/250 [==============================] - 0s 741us/step - loss: 0.3770 - accuracy: 0.8378\n",
            "Epoch 66/100\n",
            "250/250 [==============================] - 0s 622us/step - loss: 0.3770 - accuracy: 0.8341\n",
            "Epoch 67/100\n",
            "250/250 [==============================] - 0s 653us/step - loss: 0.3771 - accuracy: 0.8365\n",
            "Epoch 68/100\n",
            "250/250 [==============================] - 0s 582us/step - loss: 0.3768 - accuracy: 0.8363\n",
            "Epoch 69/100\n",
            "250/250 [==============================] - 0s 585us/step - loss: 0.3769 - accuracy: 0.8365\n",
            "Epoch 70/100\n",
            "250/250 [==============================] - 0s 604us/step - loss: 0.3770 - accuracy: 0.8369\n",
            "Epoch 71/100\n",
            "250/250 [==============================] - 0s 624us/step - loss: 0.3768 - accuracy: 0.8371\n",
            "Epoch 72/100\n",
            "250/250 [==============================] - 0s 625us/step - loss: 0.3768 - accuracy: 0.8359\n",
            "Epoch 73/100\n",
            "250/250 [==============================] - 0s 618us/step - loss: 0.3768 - accuracy: 0.8371\n",
            "Epoch 74/100\n",
            "250/250 [==============================] - 0s 616us/step - loss: 0.3770 - accuracy: 0.8367\n",
            "Epoch 75/100\n",
            "250/250 [==============================] - 0s 633us/step - loss: 0.3767 - accuracy: 0.8364\n",
            "Epoch 76/100\n",
            "250/250 [==============================] - 0s 598us/step - loss: 0.3768 - accuracy: 0.8384\n",
            "Epoch 77/100\n",
            "250/250 [==============================] - 0s 603us/step - loss: 0.3768 - accuracy: 0.8371\n",
            "Epoch 78/100\n",
            "250/250 [==============================] - 0s 636us/step - loss: 0.3765 - accuracy: 0.8356\n",
            "Epoch 79/100\n",
            "250/250 [==============================] - 0s 632us/step - loss: 0.3764 - accuracy: 0.8364\n",
            "Epoch 80/100\n",
            "250/250 [==============================] - 0s 659us/step - loss: 0.3762 - accuracy: 0.8374\n",
            "Epoch 81/100\n",
            "250/250 [==============================] - 0s 667us/step - loss: 0.3765 - accuracy: 0.8378\n",
            "Epoch 82/100\n",
            "250/250 [==============================] - 0s 601us/step - loss: 0.3764 - accuracy: 0.8357\n",
            "Epoch 83/100\n",
            "250/250 [==============================] - 0s 629us/step - loss: 0.3761 - accuracy: 0.8397\n",
            "Epoch 84/100\n",
            "250/250 [==============================] - 0s 724us/step - loss: 0.3762 - accuracy: 0.8371\n",
            "Epoch 85/100\n",
            "250/250 [==============================] - 0s 671us/step - loss: 0.3764 - accuracy: 0.8380\n",
            "Epoch 86/100\n",
            "250/250 [==============================] - 0s 644us/step - loss: 0.3762 - accuracy: 0.8374\n",
            "Epoch 87/100\n",
            "250/250 [==============================] - 0s 650us/step - loss: 0.3760 - accuracy: 0.8374\n",
            "Epoch 88/100\n",
            "250/250 [==============================] - 0s 616us/step - loss: 0.3763 - accuracy: 0.8384\n",
            "Epoch 89/100\n",
            "250/250 [==============================] - 0s 655us/step - loss: 0.3763 - accuracy: 0.8363\n",
            "Epoch 90/100\n",
            "250/250 [==============================] - 0s 662us/step - loss: 0.3764 - accuracy: 0.8361\n",
            "Epoch 91/100\n",
            "250/250 [==============================] - 0s 673us/step - loss: 0.3763 - accuracy: 0.8369\n",
            "Epoch 92/100\n",
            "250/250 [==============================] - 0s 645us/step - loss: 0.3764 - accuracy: 0.8365\n",
            "Epoch 93/100\n",
            "250/250 [==============================] - 0s 697us/step - loss: 0.3760 - accuracy: 0.8366\n",
            "Epoch 94/100\n",
            "250/250 [==============================] - 0s 652us/step - loss: 0.3763 - accuracy: 0.8364\n",
            "Epoch 95/100\n",
            "250/250 [==============================] - 0s 690us/step - loss: 0.3761 - accuracy: 0.8371\n",
            "Epoch 96/100\n",
            "250/250 [==============================] - 0s 838us/step - loss: 0.3757 - accuracy: 0.8369\n",
            "Epoch 97/100\n",
            "250/250 [==============================] - 0s 683us/step - loss: 0.3760 - accuracy: 0.8359\n",
            "Epoch 98/100\n",
            "250/250 [==============================] - 0s 653us/step - loss: 0.3758 - accuracy: 0.8361\n",
            "Epoch 99/100\n",
            "250/250 [==============================] - 0s 685us/step - loss: 0.3757 - accuracy: 0.8367\n",
            "Epoch 100/100\n",
            "250/250 [==============================] - 0s 632us/step - loss: 0.3759 - accuracy: 0.8357\n"
          ]
        },
        {
          "data": {
            "text/plain": [
              "<tensorflow.python.keras.callbacks.History at 0x26930bd35f8>"
            ]
          },
          "execution_count": 16,
          "metadata": {},
          "output_type": "execute_result"
        }
      ],
      "source": [
        "ann.fit(X_train, y_train, batch_size = 32, epochs = 100)"
      ]
    },
    {
      "cell_type": "markdown",
      "metadata": {
        "colab_type": "text",
        "id": "tJj5k2MxZga3"
      },
      "source": [
        "## Part 4 - Making the predictions and evaluating the model"
      ]
    },
    {
      "cell_type": "markdown",
      "metadata": {
        "colab_type": "text",
        "id": "u7yx47jPZt11"
      },
      "source": [
        "### Predicting the Test set results"
      ]
    },
    {
      "cell_type": "code",
      "execution_count": 18,
      "metadata": {
        "colab": {
          "base_uri": "https://localhost:8080/",
          "height": 137
        },
        "colab_type": "code",
        "id": "nIyEeQdRZwgs",
        "outputId": "82330ba8-9bdc-4fd1-d3cf-b6d78ee7c2a3"
      },
      "outputs": [
        {
          "name": "stdout",
          "output_type": "stream",
          "text": [
            "[[0 0]\n",
            " [0 1]\n",
            " [0 0]\n",
            " ...\n",
            " [0 0]\n",
            " [0 0]\n",
            " [0 0]]\n"
          ]
        }
      ],
      "source": [
        "y_pred = ann.predict(X_test)\n",
        "y_pred = (y_pred > 0.5)\n",
        "print(np.concatenate((y_pred.reshape(len(y_pred),1), y_test.reshape(len(y_test),1)),1))"
      ]
    },
    {
      "cell_type": "markdown",
      "metadata": {
        "colab_type": "text",
        "id": "o0oyfLWoaEGw"
      },
      "source": [
        "### Making the Confusion Matrix"
      ]
    },
    {
      "cell_type": "code",
      "execution_count": 19,
      "metadata": {
        "colab": {
          "base_uri": "https://localhost:8080/",
          "height": 68
        },
        "colab_type": "code",
        "id": "ci6K_r6LaF6P",
        "outputId": "4d854e9e-22d5-432f-f6e5-a102fe3ae0bd"
      },
      "outputs": [
        {
          "name": "stdout",
          "output_type": "stream",
          "text": [
            "[[1534   61]\n",
            " [ 250  155]]\n"
          ]
        },
        {
          "data": {
            "text/plain": [
              "0.8445"
            ]
          },
          "execution_count": 19,
          "metadata": {},
          "output_type": "execute_result"
        }
      ],
      "source": [
        "from sklearn.metrics import confusion_matrix, accuracy_score\n",
        "cm = confusion_matrix(y_test, y_pred)\n",
        "print(cm)\n",
        "accuracy_score(y_test, y_pred)"
      ]
    }
  ],
  "metadata": {
    "colab": {
      "collapsed_sections": [],
      "name": "artificial_neural_network.ipynb",
      "provenance": [],
      "toc_visible": true
    },
    "interpreter": {
      "hash": "57baa5815c940fdaff4d14510622de9616cae602444507ba5d0b6727c008cbd6"
    },
    "kernelspec": {
      "display_name": "Python 3.7.3 64-bit",
      "name": "python3"
    },
    "language_info": {
      "codemirror_mode": {
        "name": "ipython",
        "version": 3
      },
      "file_extension": ".py",
      "mimetype": "text/x-python",
      "name": "python",
      "nbconvert_exporter": "python",
      "pygments_lexer": "ipython3",
      "version": "3.7.3"
    },
    "metadata": {
      "interpreter": {
        "hash": "57baa5815c940fdaff4d14510622de9616cae602444507ba5d0b6727c008cbd6"
      }
    }
  },
  "nbformat": 4,
  "nbformat_minor": 0
}