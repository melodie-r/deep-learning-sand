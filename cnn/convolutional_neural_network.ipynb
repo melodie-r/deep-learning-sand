{
  "cells": [
    {
      "cell_type": "markdown",
      "metadata": {
        "colab_type": "text",
        "id": "3DR-eO17geWu"
      },
      "source": [
        "# Convolutional Neural Network"
      ]
    },
    {
      "cell_type": "markdown",
      "metadata": {
        "colab_type": "text",
        "id": "EMefrVPCg-60"
      },
      "source": [
        "### Importing the libraries"
      ]
    },
    {
      "cell_type": "code",
      "execution_count": 1,
      "metadata": {
        "colab": {},
        "colab_type": "code",
        "id": "sCV30xyVhFbE"
      },
      "outputs": [],
      "source": [
        "import tensorflow as tf\n",
        "from keras.preprocessing.image import ImageDataGenerator"
      ]
    },
    {
      "cell_type": "code",
      "execution_count": 2,
      "metadata": {
        "colab": {},
        "colab_type": "code",
        "id": "FIleuCAjoFD8"
      },
      "outputs": [
        {
          "data": {
            "text/plain": [
              "'2.5.0'"
            ]
          },
          "execution_count": 2,
          "metadata": {},
          "output_type": "execute_result"
        }
      ],
      "source": [
        "tf.__version__"
      ]
    },
    {
      "cell_type": "markdown",
      "metadata": {
        "colab_type": "text",
        "id": "oxQxCBWyoGPE"
      },
      "source": [
        "## Part 1 - Data Preprocessing"
      ]
    },
    {
      "cell_type": "markdown",
      "metadata": {
        "colab_type": "text",
        "id": "MvE-heJNo3GG"
      },
      "source": [
        "### Preprocessing the Training set"
      ]
    },
    {
      "cell_type": "code",
      "execution_count": 4,
      "metadata": {
        "colab": {},
        "colab_type": "code",
        "id": "0koUcJMJpEBD"
      },
      "outputs": [
        {
          "name": "stdout",
          "output_type": "stream",
          "text": [
            "Found 8000 images belonging to 2 classes.\n"
          ]
        }
      ],
      "source": [
        "train_datagen = ImageDataGenerator(rescale = 1./255,\r\n",
        "                                   shear_range = 0.2,\r\n",
        "                                   zoom_range = 0.2,\r\n",
        "                                   horizontal_flip = True)\r\n",
        "training_set = train_datagen.flow_from_directory('datasets/training_set',\r\n",
        "                                                 target_size = (64, 64),\r\n",
        "                                                 batch_size = 32,\r\n",
        "                                                 class_mode = 'binary')"
      ]
    },
    {
      "cell_type": "markdown",
      "metadata": {
        "colab_type": "text",
        "id": "mrCMmGw9pHys"
      },
      "source": [
        "### Preprocessing the Test set"
      ]
    },
    {
      "cell_type": "code",
      "execution_count": 6,
      "metadata": {
        "colab": {},
        "colab_type": "code",
        "id": "SH4WzfOhpKc3"
      },
      "outputs": [
        {
          "name": "stdout",
          "output_type": "stream",
          "text": [
            "Found 2000 images belonging to 2 classes.\n"
          ]
        }
      ],
      "source": [
        "test_datagen = ImageDataGenerator(rescale = 1./255)\r\n",
        "test_set = test_datagen.flow_from_directory('datasets/test_set',\r\n",
        "                                            target_size = (64, 64),\r\n",
        "                                            batch_size = 32,\r\n",
        "                                            class_mode = 'binary')"
      ]
    },
    {
      "cell_type": "markdown",
      "metadata": {
        "colab_type": "text",
        "id": "af8O4l90gk7B"
      },
      "source": [
        "## Part 2 - Building the CNN"
      ]
    },
    {
      "cell_type": "markdown",
      "metadata": {
        "colab_type": "text",
        "id": "ces1gXY2lmoX"
      },
      "source": [
        "### Initialising the CNN"
      ]
    },
    {
      "cell_type": "code",
      "execution_count": 7,
      "metadata": {
        "colab": {},
        "colab_type": "code",
        "id": "SAUt4UMPlhLS"
      },
      "outputs": [],
      "source": [
        "cnn = tf.keras.models.Sequential()"
      ]
    },
    {
      "cell_type": "markdown",
      "metadata": {
        "colab_type": "text",
        "id": "u5YJj_XMl5LF"
      },
      "source": [
        "### Step 1 - Convolution"
      ]
    },
    {
      "cell_type": "code",
      "execution_count": 8,
      "metadata": {
        "colab": {},
        "colab_type": "code",
        "id": "XPzPrMckl-hV"
      },
      "outputs": [],
      "source": [
        "cnn.add(tf.keras.layers.Conv2D(filters=32, kernel_size=3, activation='relu', input_shape=[64, 64, 3]))"
      ]
    },
    {
      "cell_type": "markdown",
      "metadata": {
        "colab_type": "text",
        "id": "tf87FpvxmNOJ"
      },
      "source": [
        "### Step 2 - Pooling"
      ]
    },
    {
      "cell_type": "code",
      "execution_count": 9,
      "metadata": {
        "colab": {},
        "colab_type": "code",
        "id": "ncpqPl69mOac"
      },
      "outputs": [],
      "source": [
        "cnn.add(tf.keras.layers.MaxPool2D(pool_size=2, strides=2))"
      ]
    },
    {
      "cell_type": "markdown",
      "metadata": {
        "colab_type": "text",
        "id": "xaTOgD8rm4mU"
      },
      "source": [
        "### Adding a second convolutional layer"
      ]
    },
    {
      "cell_type": "code",
      "execution_count": 10,
      "metadata": {
        "colab": {},
        "colab_type": "code",
        "id": "i_-FZjn_m8gk"
      },
      "outputs": [],
      "source": [
        "cnn.add(tf.keras.layers.Conv2D(filters=32, kernel_size=3, activation='relu'))\n",
        "cnn.add(tf.keras.layers.MaxPool2D(pool_size=2, strides=2))"
      ]
    },
    {
      "cell_type": "markdown",
      "metadata": {
        "colab_type": "text",
        "id": "tmiEuvTunKfk"
      },
      "source": [
        "### Step 3 - Flattening"
      ]
    },
    {
      "cell_type": "code",
      "execution_count": 11,
      "metadata": {
        "colab": {},
        "colab_type": "code",
        "id": "6AZeOGCvnNZn"
      },
      "outputs": [],
      "source": [
        "cnn.add(tf.keras.layers.Flatten())"
      ]
    },
    {
      "cell_type": "markdown",
      "metadata": {
        "colab_type": "text",
        "id": "dAoSECOm203v"
      },
      "source": [
        "### Step 4 - Full Connection"
      ]
    },
    {
      "cell_type": "code",
      "execution_count": 12,
      "metadata": {
        "colab": {},
        "colab_type": "code",
        "id": "8GtmUlLd26Nq"
      },
      "outputs": [],
      "source": [
        "cnn.add(tf.keras.layers.Dense(units=128, activation='relu'))"
      ]
    },
    {
      "cell_type": "markdown",
      "metadata": {
        "colab_type": "text",
        "id": "yTldFvbX28Na"
      },
      "source": [
        "### Step 5 - Output Layer"
      ]
    },
    {
      "cell_type": "code",
      "execution_count": 13,
      "metadata": {
        "colab": {},
        "colab_type": "code",
        "id": "1p_Zj1Mc3Ko_"
      },
      "outputs": [],
      "source": [
        "cnn.add(tf.keras.layers.Dense(units=1, activation='sigmoid'))"
      ]
    },
    {
      "cell_type": "markdown",
      "metadata": {
        "colab_type": "text",
        "id": "D6XkI90snSDl"
      },
      "source": [
        "## Part 3 - Training the CNN"
      ]
    },
    {
      "cell_type": "markdown",
      "metadata": {
        "colab_type": "text",
        "id": "vfrFQACEnc6i"
      },
      "source": [
        "### Compiling the CNN"
      ]
    },
    {
      "cell_type": "code",
      "execution_count": 14,
      "metadata": {
        "colab": {},
        "colab_type": "code",
        "id": "NALksrNQpUlJ"
      },
      "outputs": [],
      "source": [
        "cnn.compile(optimizer = 'adam', loss = 'binary_crossentropy', metrics = ['accuracy'])"
      ]
    },
    {
      "cell_type": "markdown",
      "metadata": {
        "colab_type": "text",
        "id": "ehS-v3MIpX2h"
      },
      "source": [
        "### Training the CNN on the Training set and evaluating it on the Test set"
      ]
    },
    {
      "cell_type": "code",
      "execution_count": 15,
      "metadata": {
        "colab": {},
        "colab_type": "code",
        "id": "XUj1W4PJptta"
      },
      "outputs": [
        {
          "name": "stdout",
          "output_type": "stream",
          "text": [
            "Epoch 1/25\n",
            "250/250 [==============================] - 60s 237ms/step - loss: 0.6654 - accuracy: 0.5897 - val_loss: 0.6292 - val_accuracy: 0.6200\n",
            "Epoch 2/25\n",
            "250/250 [==============================] - 53s 213ms/step - loss: 0.6075 - accuracy: 0.6720 - val_loss: 0.5612 - val_accuracy: 0.7060\n",
            "Epoch 3/25\n",
            "250/250 [==============================] - 57s 226ms/step - loss: 0.5541 - accuracy: 0.7222 - val_loss: 0.5398 - val_accuracy: 0.7395\n",
            "Epoch 4/25\n",
            "250/250 [==============================] - 57s 228ms/step - loss: 0.5301 - accuracy: 0.7294 - val_loss: 0.4943 - val_accuracy: 0.7760\n",
            "Epoch 5/25\n",
            "250/250 [==============================] - 57s 228ms/step - loss: 0.5046 - accuracy: 0.7550 - val_loss: 0.4836 - val_accuracy: 0.7660\n",
            "Epoch 6/25\n",
            "250/250 [==============================] - 56s 224ms/step - loss: 0.4932 - accuracy: 0.7566 - val_loss: 0.4809 - val_accuracy: 0.7805\n",
            "Epoch 7/25\n",
            "250/250 [==============================] - 56s 223ms/step - loss: 0.4667 - accuracy: 0.7780 - val_loss: 0.4679 - val_accuracy: 0.7865\n",
            "Epoch 8/25\n",
            "250/250 [==============================] - 52s 207ms/step - loss: 0.4507 - accuracy: 0.7881 - val_loss: 0.4713 - val_accuracy: 0.7935\n",
            "Epoch 9/25\n",
            "250/250 [==============================] - 48s 194ms/step - loss: 0.4353 - accuracy: 0.7984 - val_loss: 0.4592 - val_accuracy: 0.8095\n",
            "Epoch 10/25\n",
            "250/250 [==============================] - 53s 210ms/step - loss: 0.4224 - accuracy: 0.8006 - val_loss: 0.4302 - val_accuracy: 0.8055\n",
            "Epoch 11/25\n",
            "250/250 [==============================] - 67s 268ms/step - loss: 0.4109 - accuracy: 0.8087 - val_loss: 0.4729 - val_accuracy: 0.7910\n",
            "Epoch 12/25\n",
            "250/250 [==============================] - 56s 225ms/step - loss: 0.4086 - accuracy: 0.8105 - val_loss: 0.4337 - val_accuracy: 0.8110\n",
            "Epoch 13/25\n",
            "250/250 [==============================] - 49s 197ms/step - loss: 0.3947 - accuracy: 0.8191 - val_loss: 0.4416 - val_accuracy: 0.8035\n",
            "Epoch 14/25\n",
            "250/250 [==============================] - 50s 201ms/step - loss: 0.3687 - accuracy: 0.8334 - val_loss: 0.4905 - val_accuracy: 0.7855\n",
            "Epoch 15/25\n",
            "250/250 [==============================] - 49s 198ms/step - loss: 0.3669 - accuracy: 0.8341 - val_loss: 0.4323 - val_accuracy: 0.8065\n",
            "Epoch 16/25\n",
            "250/250 [==============================] - 51s 203ms/step - loss: 0.3433 - accuracy: 0.8454 - val_loss: 0.4630 - val_accuracy: 0.8090\n",
            "Epoch 17/25\n",
            "250/250 [==============================] - 52s 210ms/step - loss: 0.3372 - accuracy: 0.8525 - val_loss: 0.4449 - val_accuracy: 0.8145\n",
            "Epoch 18/25\n",
            "250/250 [==============================] - 50s 202ms/step - loss: 0.3239 - accuracy: 0.8570 - val_loss: 0.4584 - val_accuracy: 0.8150\n",
            "Epoch 19/25\n",
            "250/250 [==============================] - 49s 195ms/step - loss: 0.3185 - accuracy: 0.8616 - val_loss: 0.4463 - val_accuracy: 0.8080\n",
            "Epoch 20/25\n",
            "250/250 [==============================] - 49s 198ms/step - loss: 0.2993 - accuracy: 0.8691 - val_loss: 0.4746 - val_accuracy: 0.8085\n",
            "Epoch 21/25\n",
            "250/250 [==============================] - 52s 208ms/step - loss: 0.2908 - accuracy: 0.8748 - val_loss: 0.5048 - val_accuracy: 0.8050\n",
            "Epoch 22/25\n",
            "250/250 [==============================] - 54s 215ms/step - loss: 0.2799 - accuracy: 0.8799 - val_loss: 0.4904 - val_accuracy: 0.7965\n",
            "Epoch 23/25\n",
            "250/250 [==============================] - 52s 208ms/step - loss: 0.2533 - accuracy: 0.8936 - val_loss: 0.5444 - val_accuracy: 0.7960\n",
            "Epoch 24/25\n",
            "250/250 [==============================] - 50s 200ms/step - loss: 0.2394 - accuracy: 0.9006 - val_loss: 0.7413 - val_accuracy: 0.7405\n",
            "Epoch 25/25\n",
            "250/250 [==============================] - 49s 198ms/step - loss: 0.2362 - accuracy: 0.9020 - val_loss: 0.4947 - val_accuracy: 0.8165\n"
          ]
        },
        {
          "data": {
            "text/plain": [
              "<tensorflow.python.keras.callbacks.History at 0x237a88a4e80>"
            ]
          },
          "execution_count": 15,
          "metadata": {},
          "output_type": "execute_result"
        }
      ],
      "source": [
        "cnn.fit(x = training_set, validation_data = test_set, epochs = 25)"
      ]
    },
    {
      "cell_type": "markdown",
      "metadata": {
        "colab_type": "text",
        "id": "U3PZasO0006Z"
      },
      "source": [
        "## Part 4 - Making a single prediction"
      ]
    },
    {
      "cell_type": "code",
      "execution_count": 23,
      "metadata": {
        "colab": {},
        "colab_type": "code",
        "id": "gsSiWEJY1BPB"
      },
      "outputs": [
        {
          "name": "stdout",
          "output_type": "stream",
          "text": [
            "Predicted label : dog\n"
          ]
        }
      ],
      "source": [
        "import numpy as np\r\n",
        "from keras.preprocessing import image\r\n",
        "test_image = image.load_img('datasets/single_prediction/cat_or_dog_1.jpg', target_size = (64, 64))\r\n",
        "test_image = image.img_to_array(test_image)\r\n",
        "test_image = np.expand_dims(test_image, axis = 0)\r\n",
        "result = cnn.predict(test_image)\r\n",
        "training_set.class_indices\r\n",
        "if result[0][0] == 1:\r\n",
        "  prediction = 'dog'\r\n",
        "else:\r\n",
        "  prediction = 'cat'\r\n",
        "\r\n",
        "print(\"Predicted label : {}\".format(prediction))"
      ]
    }
  ],
  "metadata": {
    "colab": {
      "collapsed_sections": [],
      "name": "convolutional_neural_network.ipynb",
      "provenance": [],
      "toc_visible": true
    },
    "interpreter": {
      "hash": "57baa5815c940fdaff4d14510622de9616cae602444507ba5d0b6727c008cbd6"
    },
    "kernelspec": {
      "display_name": "Python 3.7.3 64-bit",
      "name": "python3"
    },
    "language_info": {
      "codemirror_mode": {
        "name": "ipython",
        "version": 3
      },
      "file_extension": ".py",
      "mimetype": "text/x-python",
      "name": "python",
      "nbconvert_exporter": "python",
      "pygments_lexer": "ipython3",
      "version": "3.7.3"
    }
  },
  "nbformat": 4,
  "nbformat_minor": 0
}