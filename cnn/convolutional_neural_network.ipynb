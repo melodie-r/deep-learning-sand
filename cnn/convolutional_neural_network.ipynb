{
  "cells": [
    {
      "cell_type": "markdown",
      "source": [
        "# Convolutional Neural Network"
      ],
      "metadata": {
        "colab_type": "text",
        "id": "3DR-eO17geWu"
      }
    },
    {
      "cell_type": "markdown",
      "source": [
        "### Importing the libraries"
      ],
      "metadata": {
        "colab_type": "text",
        "id": "EMefrVPCg-60"
      }
    },
    {
      "cell_type": "code",
      "execution_count": 1,
      "source": [
        "import tensorflow as tf\r\n",
        "from keras.preprocessing.image import ImageDataGenerator"
      ],
      "outputs": [],
      "metadata": {
        "colab": {},
        "colab_type": "code",
        "id": "sCV30xyVhFbE"
      }
    },
    {
      "cell_type": "code",
      "execution_count": 2,
      "source": [
        "tf.__version__"
      ],
      "outputs": [
        {
          "output_type": "execute_result",
          "data": {
            "text/plain": [
              "'2.5.0'"
            ]
          },
          "metadata": {},
          "execution_count": 2
        }
      ],
      "metadata": {
        "colab": {},
        "colab_type": "code",
        "id": "FIleuCAjoFD8"
      }
    },
    {
      "cell_type": "markdown",
      "source": [
        "## Part 1 - Data Preprocessing"
      ],
      "metadata": {
        "colab_type": "text",
        "id": "oxQxCBWyoGPE"
      }
    },
    {
      "cell_type": "markdown",
      "source": [
        "### Preprocessing the Training set"
      ],
      "metadata": {
        "colab_type": "text",
        "id": "MvE-heJNo3GG"
      }
    },
    {
      "cell_type": "code",
      "execution_count": 3,
      "source": [
        "train_datagen = ImageDataGenerator(rescale = 1./255,\r\n",
        "                                   shear_range = 0.2,\r\n",
        "                                   zoom_range = 0.2,\r\n",
        "                                   horizontal_flip = True)\r\n",
        "training_set = train_datagen.flow_from_directory('datasets/training_set',\r\n",
        "                                                 target_size = (64, 64),\r\n",
        "                                                 batch_size = 32,\r\n",
        "                                                 class_mode = 'binary')"
      ],
      "outputs": [
        {
          "output_type": "stream",
          "name": "stdout",
          "text": [
            "Found 8000 images belonging to 2 classes.\n"
          ]
        }
      ],
      "metadata": {
        "colab": {},
        "colab_type": "code",
        "id": "0koUcJMJpEBD"
      }
    },
    {
      "cell_type": "markdown",
      "source": [
        "### Preprocessing the Test set"
      ],
      "metadata": {
        "colab_type": "text",
        "id": "mrCMmGw9pHys"
      }
    },
    {
      "cell_type": "code",
      "execution_count": 4,
      "source": [
        "test_datagen = ImageDataGenerator(rescale = 1./255)\r\n",
        "test_set = test_datagen.flow_from_directory('datasets/test_set',\r\n",
        "                                            target_size = (64, 64),\r\n",
        "                                            batch_size = 32,\r\n",
        "                                            class_mode = 'binary')"
      ],
      "outputs": [
        {
          "output_type": "stream",
          "name": "stdout",
          "text": [
            "Found 2000 images belonging to 2 classes.\n"
          ]
        }
      ],
      "metadata": {
        "colab": {},
        "colab_type": "code",
        "id": "SH4WzfOhpKc3"
      }
    },
    {
      "cell_type": "markdown",
      "source": [
        "## Part 2 - Building the CNN"
      ],
      "metadata": {
        "colab_type": "text",
        "id": "af8O4l90gk7B"
      }
    },
    {
      "cell_type": "markdown",
      "source": [
        "### Initialising the CNN"
      ],
      "metadata": {
        "colab_type": "text",
        "id": "ces1gXY2lmoX"
      }
    },
    {
      "cell_type": "code",
      "execution_count": 5,
      "source": [
        "cnn = tf.keras.models.Sequential()"
      ],
      "outputs": [],
      "metadata": {
        "colab": {},
        "colab_type": "code",
        "id": "SAUt4UMPlhLS"
      }
    },
    {
      "cell_type": "markdown",
      "source": [
        "### Step 1 - Convolution"
      ],
      "metadata": {
        "colab_type": "text",
        "id": "u5YJj_XMl5LF"
      }
    },
    {
      "cell_type": "code",
      "execution_count": 6,
      "source": [
        "cnn.add(tf.keras.layers.Conv2D(filters=32, kernel_size=3, activation='relu', input_shape=[64, 64, 3]))"
      ],
      "outputs": [],
      "metadata": {
        "colab": {},
        "colab_type": "code",
        "id": "XPzPrMckl-hV"
      }
    },
    {
      "cell_type": "markdown",
      "source": [
        "### Step 2 - Pooling"
      ],
      "metadata": {
        "colab_type": "text",
        "id": "tf87FpvxmNOJ"
      }
    },
    {
      "cell_type": "code",
      "execution_count": 7,
      "source": [
        "cnn.add(tf.keras.layers.MaxPool2D(pool_size=2, strides=2))"
      ],
      "outputs": [],
      "metadata": {
        "colab": {},
        "colab_type": "code",
        "id": "ncpqPl69mOac"
      }
    },
    {
      "cell_type": "markdown",
      "source": [
        "### Adding a second convolutional layer"
      ],
      "metadata": {
        "colab_type": "text",
        "id": "xaTOgD8rm4mU"
      }
    },
    {
      "cell_type": "code",
      "execution_count": 8,
      "source": [
        "cnn.add(tf.keras.layers.Conv2D(filters=32, kernel_size=3, activation='relu'))\r\n",
        "cnn.add(tf.keras.layers.MaxPool2D(pool_size=2, strides=2))"
      ],
      "outputs": [],
      "metadata": {
        "colab": {},
        "colab_type": "code",
        "id": "i_-FZjn_m8gk"
      }
    },
    {
      "cell_type": "markdown",
      "source": [
        "### Step 3 - Flattening"
      ],
      "metadata": {
        "colab_type": "text",
        "id": "tmiEuvTunKfk"
      }
    },
    {
      "cell_type": "code",
      "execution_count": 9,
      "source": [
        "cnn.add(tf.keras.layers.Flatten())"
      ],
      "outputs": [],
      "metadata": {
        "colab": {},
        "colab_type": "code",
        "id": "6AZeOGCvnNZn"
      }
    },
    {
      "cell_type": "markdown",
      "source": [
        "### Step 4 - Full Connection"
      ],
      "metadata": {
        "colab_type": "text",
        "id": "dAoSECOm203v"
      }
    },
    {
      "cell_type": "code",
      "execution_count": 10,
      "source": [
        "cnn.add(tf.keras.layers.Dense(units=128, activation='relu'))"
      ],
      "outputs": [],
      "metadata": {
        "colab": {},
        "colab_type": "code",
        "id": "8GtmUlLd26Nq"
      }
    },
    {
      "cell_type": "markdown",
      "source": [
        "### Step 5 - Output Layer"
      ],
      "metadata": {
        "colab_type": "text",
        "id": "yTldFvbX28Na"
      }
    },
    {
      "cell_type": "code",
      "execution_count": 11,
      "source": [
        "cnn.add(tf.keras.layers.Dense(units=1, activation='sigmoid'))"
      ],
      "outputs": [],
      "metadata": {
        "colab": {},
        "colab_type": "code",
        "id": "1p_Zj1Mc3Ko_"
      }
    },
    {
      "cell_type": "markdown",
      "source": [
        "## Part 3 - Training the CNN"
      ],
      "metadata": {
        "colab_type": "text",
        "id": "D6XkI90snSDl"
      }
    },
    {
      "cell_type": "markdown",
      "source": [
        "### Compiling the CNN"
      ],
      "metadata": {
        "colab_type": "text",
        "id": "vfrFQACEnc6i"
      }
    },
    {
      "cell_type": "code",
      "execution_count": 12,
      "source": [
        "cnn.compile(optimizer = 'adam', loss = 'binary_crossentropy', metrics = ['accuracy'])"
      ],
      "outputs": [],
      "metadata": {
        "colab": {},
        "colab_type": "code",
        "id": "NALksrNQpUlJ"
      }
    },
    {
      "cell_type": "markdown",
      "source": [
        "### Training the CNN on the Training set and evaluating it on the Test set"
      ],
      "metadata": {
        "colab_type": "text",
        "id": "ehS-v3MIpX2h"
      }
    },
    {
      "cell_type": "code",
      "execution_count": 13,
      "source": [
        "cnn.fit(x = training_set, validation_data = test_set, epochs = 25)"
      ],
      "outputs": [
        {
          "output_type": "stream",
          "name": "stdout",
          "text": [
            "Epoch 1/25\n",
            " 81/250 [========>.....................] - ETA: 29s - loss: 0.6901 - accuracy: 0.5239"
          ]
        }
      ],
      "metadata": {
        "colab": {},
        "colab_type": "code",
        "id": "XUj1W4PJptta"
      }
    },
    {
      "cell_type": "markdown",
      "source": [
        "## Part 4 - Making a single prediction"
      ],
      "metadata": {
        "colab_type": "text",
        "id": "U3PZasO0006Z"
      }
    },
    {
      "cell_type": "code",
      "execution_count": null,
      "source": [
        "import numpy as np\r\n",
        "from keras.preprocessing import image\r\n",
        "test_image = image.load_img('datasets/single_prediction/cat_or_dog_1.jpg', target_size = (64, 64))\r\n",
        "test_image = image.img_to_array(test_image)\r\n",
        "test_image = np.expand_dims(test_image, axis = 0)\r\n",
        "result = cnn.predict(test_image)\r\n",
        "training_set.class_indices\r\n",
        "if result[0][0] == 1:\r\n",
        "  prediction = 'dog'\r\n",
        "else:\r\n",
        "  prediction = 'cat'\r\n",
        "\r\n",
        "print(\"Predicted label : {}\".format(prediction))"
      ],
      "outputs": [
        {
          "output_type": "stream",
          "name": "stdout",
          "text": [
            "Predicted label : dog\n"
          ]
        }
      ],
      "metadata": {
        "colab": {},
        "colab_type": "code",
        "id": "gsSiWEJY1BPB"
      }
    }
  ],
  "metadata": {
    "colab": {
      "collapsed_sections": [],
      "name": "convolutional_neural_network.ipynb",
      "provenance": [],
      "toc_visible": true
    },
    "interpreter": {
      "hash": "57baa5815c940fdaff4d14510622de9616cae602444507ba5d0b6727c008cbd6"
    },
    "kernelspec": {
      "name": "python3",
      "display_name": "Python 3.7.3 64-bit"
    },
    "language_info": {
      "codemirror_mode": {
        "name": "ipython",
        "version": 3
      },
      "file_extension": ".py",
      "mimetype": "text/x-python",
      "name": "python",
      "nbconvert_exporter": "python",
      "pygments_lexer": "ipython3",
      "version": "3.7.3"
    }
  },
  "nbformat": 4,
  "nbformat_minor": 2
}